{
 "cells": [
  {
   "cell_type": "markdown",
   "metadata": {},
   "source": [
    "# Navigation\n",
    "\n",
    "---\n",
    "\n",
    "In this notebook, you will learn how to use the Unity ML-Agents environment for the first project of the [Deep Reinforcement Learning Nanodegree](https://www.udacity.com/course/deep-reinforcement-learning-nanodegree--nd893)."
   ]
  },
  {
   "cell_type": "markdown",
   "metadata": {},
   "source": [
    "### 0. Download and unpack necessary files"
   ]
  },
  {
   "cell_type": "code",
   "execution_count": 1,
   "metadata": {},
   "outputs": [
    {
     "name": "stdout",
     "output_type": "stream",
     "text": [
      "  % Total    % Received % Xferd  Average Speed   Time    Time     Time  Current\n",
      "                                 Dload  Upload   Total   Spent    Left  Speed\n",
      "100 22.7M  100 22.7M    0     0  1398k      0  0:00:16  0:00:16 --:--:-- 1603k\n",
      "Archive:  Banana.zip\n",
      "   creating: Banana.app/\n",
      "   creating: Banana.app/Contents/\n",
      "   creating: Banana.app/Contents/MacOS/\n",
      "  inflating: Banana.app/Contents/MacOS/mac_banana  \n",
      "   creating: Banana.app/Contents/Plugins/\n",
      "  inflating: Banana.app/Contents/Plugins/libgrpc_csharp_ext.x64.bundle  \n",
      "   creating: Banana.app/Contents/Resources/\n",
      "   creating: Banana.app/Contents/Resources/KeyConfig.nib/\n",
      "  inflating: Banana.app/Contents/Resources/KeyConfig.nib/classes.nib  \n",
      "  inflating: Banana.app/Contents/Resources/KeyConfig.nib/info.nib  \n",
      "  inflating: Banana.app/Contents/Resources/KeyConfig.nib/keyedobjects.nib  \n",
      "  inflating: Banana.app/Contents/Resources/DefaultPreferences.plist  \n",
      "  inflating: Banana.app/Contents/Resources/Ageia.tif  \n",
      "  inflating: Banana.app/Contents/Resources/UnityPlayerIcon.png  \n",
      "  inflating: Banana.app/Contents/Resources/unity default resources  \n",
      "   creating: Banana.app/Contents/Resources/ScreenSelector.nib/\n",
      "  inflating: Banana.app/Contents/Resources/ScreenSelector.nib/classes.nib  \n",
      "  inflating: Banana.app/Contents/Resources/ScreenSelector.nib/info.nib  \n",
      "  inflating: Banana.app/Contents/Resources/ScreenSelector.nib/keyedobjects.nib  \n",
      "  inflating: Banana.app/Contents/Resources/ScreenSelector.nib/designable.nib  \n",
      "   creating: Banana.app/Contents/Resources/MainMenu.nib/\n",
      "  inflating: Banana.app/Contents/Resources/MainMenu.nib/classes.nib  \n",
      "  inflating: Banana.app/Contents/Resources/MainMenu.nib/info.nib  \n",
      "  inflating: Banana.app/Contents/Resources/MainMenu.nib/keyedobjects.nib  \n",
      "  inflating: Banana.app/Contents/Resources/Mono.tif  \n",
      "   creating: Banana.app/Contents/Resources/Data/\n",
      "   creating: Banana.app/Contents/Resources/Data/Managed/\n",
      "  inflating: Banana.app/Contents/Resources/Data/Managed/UnityEngine.TerrainPhysicsModule.dll  \n",
      "  inflating: Banana.app/Contents/Resources/Data/Managed/UnityEngine.ImageConversionModule.xml  \n",
      "  inflating: Banana.app/Contents/Resources/Data/Managed/Mono.Posix.dll  \n",
      "  inflating: Banana.app/Contents/Resources/Data/Managed/UnityEngine.SpriteMaskModule.dll  \n",
      "  inflating: Banana.app/Contents/Resources/Data/Managed/UnityEngine.TilemapModule.xml  \n",
      "  inflating: Banana.app/Contents/Resources/Data/Managed/UnityEngine.ParticleSystemModule.xml  \n",
      "  inflating: Banana.app/Contents/Resources/Data/Managed/UnityEngine.VehiclesModule.xml  \n",
      "  inflating: Banana.app/Contents/Resources/Data/Managed/UnityEngine.CrashReportingModule.dll  \n",
      "  inflating: Banana.app/Contents/Resources/Data/Managed/UnityEngine.PhysicsModule.xml  \n",
      "  inflating: Banana.app/Contents/Resources/Data/Managed/UnityEngine.CoreModule.xml  \n",
      "  inflating: Banana.app/Contents/Resources/Data/Managed/UnityEngine.PerformanceReportingModule.xml  \n",
      "  inflating: Banana.app/Contents/Resources/Data/Managed/UnityEngine.WindModule.xml  \n",
      "  inflating: Banana.app/Contents/Resources/Data/Managed/UnityEngine.UnityAnalyticsModule.dll  \n",
      "  inflating: Banana.app/Contents/Resources/Data/Managed/UnityEngine.ScreenCaptureModule.xml  \n",
      "  inflating: Banana.app/Contents/Resources/Data/Managed/UnityEngine.ClusterRendererModule.xml  \n",
      "  inflating: Banana.app/Contents/Resources/Data/Managed/UnityEngine.UnityWebRequestModule.xml  \n",
      "  inflating: Banana.app/Contents/Resources/Data/Managed/UnityEngine.UnityWebRequestWWWModule.dll  \n",
      "  inflating: Banana.app/Contents/Resources/Data/Managed/UnityEngine.ARModule.dll  \n",
      "  inflating: Banana.app/Contents/Resources/Data/Managed/Google.Protobuf.dll  \n",
      "  inflating: Banana.app/Contents/Resources/Data/Managed/UnityEngine.AccessibilityModule.dll  \n",
      "  inflating: Banana.app/Contents/Resources/Data/Managed/UnityEngine.UnityWebRequestAudioModule.xml  \n",
      "  inflating: Banana.app/Contents/Resources/Data/Managed/System.Configuration.dll  \n",
      "  inflating: Banana.app/Contents/Resources/Data/Managed/UnityEngine.SpriteShapeModule.dll  \n",
      "  inflating: Banana.app/Contents/Resources/Data/Managed/UnityEngine.TextRenderingModule.dll  \n",
      "  inflating: Banana.app/Contents/Resources/Data/Managed/UnityEngine.UNETModule.xml  \n",
      "  inflating: Banana.app/Contents/Resources/Data/Managed/UnityEngine.ClothModule.xml  \n",
      "  inflating: Banana.app/Contents/Resources/Data/Managed/UnityEngine.AIModule.xml  \n",
      "  inflating: Banana.app/Contents/Resources/Data/Managed/Assembly-CSharp.dll  \n",
      "  inflating: Banana.app/Contents/Resources/Data/Managed/UnityEngine.IMGUIModule.xml  \n",
      "  inflating: Banana.app/Contents/Resources/Data/Managed/UnityEngine.VideoModule.xml  \n",
      "  inflating: Banana.app/Contents/Resources/Data/Managed/UnityEngine.UnityWebRequestTextureModule.dll  \n",
      "  inflating: Banana.app/Contents/Resources/Data/Managed/UnityEngine.StandardEvents.dll  \n",
      "  inflating: Banana.app/Contents/Resources/Data/Managed/UnityEngine.AssetBundleModule.dll  \n",
      "  inflating: Banana.app/Contents/Resources/Data/Managed/UnityEngine.Physics2DModule.xml  \n",
      "  inflating: Banana.app/Contents/Resources/Data/Managed/UnityEngine.UnityConnectModule.xml  \n",
      "  inflating: Banana.app/Contents/Resources/Data/Managed/UnityEngine.xml  \n",
      "  inflating: Banana.app/Contents/Resources/Data/Managed/UnityEngine.UIElementsModule.xml  \n",
      "  inflating: Banana.app/Contents/Resources/Data/Managed/UnityEngine.AnimationModule.dll  \n",
      "  inflating: Banana.app/Contents/Resources/Data/Managed/UnityEngine.AudioModule.dll  \n",
      "  inflating: Banana.app/Contents/Resources/Data/Managed/UnityEngine.UIModule.xml  \n",
      "  inflating: Banana.app/Contents/Resources/Data/Managed/UnityEngine.ParticlesLegacyModule.xml  \n",
      "  inflating: Banana.app/Contents/Resources/Data/Managed/UnityEngine.StyleSheetsModule.xml  \n",
      "  inflating: Banana.app/Contents/Resources/Data/Managed/UnityEngine.WebModule.xml  \n",
      "  inflating: Banana.app/Contents/Resources/Data/Managed/UnityEngine.ClusterInputModule.dll  \n",
      "  inflating: Banana.app/Contents/Resources/Data/Managed/UnityEngine.InputModule.dll  \n",
      "  inflating: Banana.app/Contents/Resources/Data/Managed/UnityEngine.GridModule.xml  \n",
      "  inflating: Banana.app/Contents/Resources/Data/Managed/UnityEngine.TerrainModule.xml  \n",
      "  inflating: Banana.app/Contents/Resources/Data/Managed/UnityEngine.VRModule.xml  \n",
      "  inflating: Banana.app/Contents/Resources/Data/Managed/UnityEngine.JSONSerializeModule.xml  \n",
      "  inflating: Banana.app/Contents/Resources/Data/Managed/UnityEngine.DirectorModule.dll  \n",
      "  inflating: Banana.app/Contents/Resources/Data/Managed/mscorlib.dll  \n",
      "  inflating: Banana.app/Contents/Resources/Data/Managed/UnityEngine.SharedInternalsModule.xml  \n",
      "  inflating: Banana.app/Contents/Resources/Data/Managed/UnityEngine.GameCenterModule.dll  \n",
      "  inflating: Banana.app/Contents/Resources/Data/Managed/UnityEngine.AssetBundleModule.xml  \n",
      "  inflating: Banana.app/Contents/Resources/Data/Managed/UnityEngine.Physics2DModule.dll  \n",
      "  inflating: Banana.app/Contents/Resources/Data/Managed/UnityEngine.UnityConnectModule.dll  \n",
      "  inflating: Banana.app/Contents/Resources/Data/Managed/UnityEngine.dll  \n",
      "  inflating: Banana.app/Contents/Resources/Data/Managed/UnityEngine.UIElementsModule.dll  \n",
      "  inflating: Banana.app/Contents/Resources/Data/Managed/Grpc.Core.dll  \n",
      "  inflating: Banana.app/Contents/Resources/Data/Managed/UnityEngine.AnimationModule.xml  \n",
      "  inflating: Banana.app/Contents/Resources/Data/Managed/UnityEngine.AudioModule.xml  \n",
      "  inflating: Banana.app/Contents/Resources/Data/Managed/UnityEngine.UIModule.dll  \n",
      "  inflating: Banana.app/Contents/Resources/Data/Managed/UnityEngine.UI.dll  \n",
      "  inflating: Banana.app/Contents/Resources/Data/Managed/UnityEngine.ParticlesLegacyModule.dll  \n",
      "  inflating: Banana.app/Contents/Resources/Data/Managed/UnityEngine.StyleSheetsModule.dll  \n",
      "  inflating: Banana.app/Contents/Resources/Data/Managed/System.Interactive.Async.dll  \n",
      "  inflating: Banana.app/Contents/Resources/Data/Managed/UnityEngine.WebModule.dll  \n",
      "  inflating: Banana.app/Contents/Resources/Data/Managed/UnityEngine.ClusterInputModule.xml  \n",
      "  inflating: Banana.app/Contents/Resources/Data/Managed/UnityEngine.Timeline.dll  \n",
      "  inflating: Banana.app/Contents/Resources/Data/Managed/UnityEngine.InputModule.xml  \n",
      "  inflating: Banana.app/Contents/Resources/Data/Managed/UnityEngine.GridModule.dll  \n",
      "  inflating: Banana.app/Contents/Resources/Data/Managed/UnityEngine.TerrainModule.dll  \n",
      "  inflating: Banana.app/Contents/Resources/Data/Managed/UnityEngine.VRModule.dll  \n",
      "  inflating: Banana.app/Contents/Resources/Data/Managed/UnityEngine.JSONSerializeModule.dll  \n",
      "  inflating: Banana.app/Contents/Resources/Data/Managed/UnityEngine.DirectorModule.xml  \n",
      "  inflating: Banana.app/Contents/Resources/Data/Managed/UnityEngine.SpatialTracking.dll  \n",
      "  inflating: Banana.app/Contents/Resources/Data/Managed/Mono.Security.dll  \n",
      "  inflating: Banana.app/Contents/Resources/Data/Managed/System.dll  \n",
      "  inflating: Banana.app/Contents/Resources/Data/Managed/UnityEngine.SharedInternalsModule.dll  \n",
      "  inflating: Banana.app/Contents/Resources/Data/Managed/UnityEngine.GameCenterModule.xml  \n",
      "  inflating: Banana.app/Contents/Resources/Data/Managed/UnityEngine.TerrainPhysicsModule.xml  \n",
      "  inflating: Banana.app/Contents/Resources/Data/Managed/UnityEngine.ImageConversionModule.dll  \n",
      "  inflating: Banana.app/Contents/Resources/Data/Managed/UnityEngine.SpriteMaskModule.xml  \n",
      "  inflating: Banana.app/Contents/Resources/Data/Managed/UnityEngine.TilemapModule.dll  \n",
      "  inflating: Banana.app/Contents/Resources/Data/Managed/UnityEngine.ParticleSystemModule.dll  \n",
      "  inflating: Banana.app/Contents/Resources/Data/Managed/UnityEngine.VehiclesModule.dll  \n",
      "  inflating: Banana.app/Contents/Resources/Data/Managed/UnityEngine.CrashReportingModule.xml  \n",
      "  inflating: Banana.app/Contents/Resources/Data/Managed/UnityEngine.PhysicsModule.dll  \n",
      "  inflating: Banana.app/Contents/Resources/Data/Managed/UnityEngine.CoreModule.dll  \n",
      "  inflating: Banana.app/Contents/Resources/Data/Managed/UnityEngine.PerformanceReportingModule.dll  \n"
     ]
    },
    {
     "name": "stdout",
     "output_type": "stream",
     "text": [
      "  inflating: Banana.app/Contents/Resources/Data/Managed/System.Xml.dll  \n",
      "  inflating: Banana.app/Contents/Resources/Data/Managed/UnityEngine.WindModule.dll  \n",
      "  inflating: Banana.app/Contents/Resources/Data/Managed/UnityEngine.UnityAnalyticsModule.xml  \n",
      "  inflating: Banana.app/Contents/Resources/Data/Managed/UnityEngine.ScreenCaptureModule.dll  \n",
      "  inflating: Banana.app/Contents/Resources/Data/Managed/UnityEngine.ClusterRendererModule.dll  \n",
      "  inflating: Banana.app/Contents/Resources/Data/Managed/UnityEngine.UnityWebRequestModule.dll  \n",
      "  inflating: Banana.app/Contents/Resources/Data/Managed/UnityEngine.UnityWebRequestWWWModule.xml  \n",
      "  inflating: Banana.app/Contents/Resources/Data/Managed/UnityEngine.ARModule.xml  \n",
      "  inflating: Banana.app/Contents/Resources/Data/Managed/UnityEngine.Networking.dll  \n",
      "  inflating: Banana.app/Contents/Resources/Data/Managed/UnityEngine.AccessibilityModule.xml  \n",
      "  inflating: Banana.app/Contents/Resources/Data/Managed/UnityEngine.UnityWebRequestAudioModule.dll  \n",
      "  inflating: Banana.app/Contents/Resources/Data/Managed/UnityEngine.SpriteShapeModule.xml  \n",
      "  inflating: Banana.app/Contents/Resources/Data/Managed/UnityEngine.TextRenderingModule.xml  \n",
      "  inflating: Banana.app/Contents/Resources/Data/Managed/UnityEngine.UNETModule.dll  \n",
      "  inflating: Banana.app/Contents/Resources/Data/Managed/UnityEngine.ClothModule.dll  \n",
      "  inflating: Banana.app/Contents/Resources/Data/Managed/System.Security.dll  \n",
      "  inflating: Banana.app/Contents/Resources/Data/Managed/UnityEngine.AIModule.dll  \n",
      "  inflating: Banana.app/Contents/Resources/Data/Managed/UnityEngine.IMGUIModule.dll  \n",
      "  inflating: Banana.app/Contents/Resources/Data/Managed/System.Core.dll  \n",
      "  inflating: Banana.app/Contents/Resources/Data/Managed/UnityEngine.VideoModule.dll  \n",
      "  inflating: Banana.app/Contents/Resources/Data/Managed/UnityEngine.UnityWebRequestTextureModule.xml  \n",
      "  inflating: Banana.app/Contents/Resources/Data/globalgamemanagers  \n",
      "   creating: Banana.app/Contents/Resources/Data/GI/\n",
      "   creating: Banana.app/Contents/Resources/Data/GI/level0/\n",
      "   creating: Banana.app/Contents/Resources/Data/GI/level0/d8/\n",
      "  inflating: Banana.app/Contents/Resources/Data/GI/level0/d8/d879d8f84dad702b137146d9028aad2c.vis  \n",
      "  inflating: Banana.app/Contents/Resources/Data/GI/level0/d8/d879d8f84dad702b137146d9028aad2c.iws.sse  \n",
      "  inflating: Banana.app/Contents/Resources/Data/GI/level0/d8/d879d8f84dad702b137146d9028aad2c.caw  \n",
      "  inflating: Banana.app/Contents/Resources/Data/GI/level0/d8/d879d8f84dad702b137146d9028aad2c.ecm  \n",
      "  inflating: Banana.app/Contents/Resources/Data/GI/level0/d8/d879d8f84dad702b137146d9028aad2c.rsc.sse  \n",
      "  inflating: Banana.app/Contents/Resources/Data/GI/level0/d8/d879d8f84dad702b137146d9028aad2c.rgb  \n",
      "  inflating: Banana.app/Contents/Resources/Data/boot.config  \n",
      "   creating: Banana.app/Contents/Resources/Data/Resources/\n",
      "  inflating: Banana.app/Contents/Resources/Data/Resources/unity_builtin_extra  \n",
      "  inflating: Banana.app/Contents/Resources/Data/sharedassets0.assets.resS  \n",
      "  inflating: Banana.app/Contents/Resources/Data/sharedassets0.assets  \n",
      "  inflating: Banana.app/Contents/Resources/Data/level0  \n",
      "  inflating: Banana.app/Contents/Resources/Data/globalgamemanagers.assets  \n",
      "   creating: Banana.app/Contents/MonoBleedingEdge/\n",
      "   creating: Banana.app/Contents/MonoBleedingEdge/etc/\n",
      "   creating: Banana.app/Contents/MonoBleedingEdge/etc/mono/\n",
      "  inflating: Banana.app/Contents/MonoBleedingEdge/etc/mono/config  \n",
      "   creating: Banana.app/Contents/MonoBleedingEdge/etc/mono/2.0/\n",
      "  inflating: Banana.app/Contents/MonoBleedingEdge/etc/mono/2.0/web.config  \n",
      "  inflating: Banana.app/Contents/MonoBleedingEdge/etc/mono/2.0/machine.config  \n",
      "   creating: Banana.app/Contents/MonoBleedingEdge/etc/mono/2.0/Browsers/\n",
      "  inflating: Banana.app/Contents/MonoBleedingEdge/etc/mono/2.0/Browsers/Compat.browser  \n",
      "  inflating: Banana.app/Contents/MonoBleedingEdge/etc/mono/2.0/DefaultWsdlHelpGenerator.aspx  \n",
      "  inflating: Banana.app/Contents/MonoBleedingEdge/etc/mono/2.0/settings.map  \n",
      "   creating: Banana.app/Contents/MonoBleedingEdge/etc/mono/4.5/\n",
      "  inflating: Banana.app/Contents/MonoBleedingEdge/etc/mono/4.5/web.config  \n",
      "  inflating: Banana.app/Contents/MonoBleedingEdge/etc/mono/4.5/machine.config  \n",
      "   creating: Banana.app/Contents/MonoBleedingEdge/etc/mono/4.5/Browsers/\n",
      "  inflating: Banana.app/Contents/MonoBleedingEdge/etc/mono/4.5/Browsers/Compat.browser  \n",
      "  inflating: Banana.app/Contents/MonoBleedingEdge/etc/mono/4.5/DefaultWsdlHelpGenerator.aspx  \n",
      "  inflating: Banana.app/Contents/MonoBleedingEdge/etc/mono/4.5/settings.map  \n",
      "  inflating: Banana.app/Contents/MonoBleedingEdge/etc/mono/browscap.ini  \n",
      "   creating: Banana.app/Contents/MonoBleedingEdge/etc/mono/mconfig/\n",
      "  inflating: Banana.app/Contents/MonoBleedingEdge/etc/mono/mconfig/config.xml  \n",
      "   creating: Banana.app/Contents/MonoBleedingEdge/etc/mono/4.0/\n",
      "  inflating: Banana.app/Contents/MonoBleedingEdge/etc/mono/4.0/web.config  \n",
      "  inflating: Banana.app/Contents/MonoBleedingEdge/etc/mono/4.0/machine.config  \n",
      "   creating: Banana.app/Contents/MonoBleedingEdge/etc/mono/4.0/Browsers/\n",
      "  inflating: Banana.app/Contents/MonoBleedingEdge/etc/mono/4.0/Browsers/Compat.browser  \n",
      "  inflating: Banana.app/Contents/MonoBleedingEdge/etc/mono/4.0/DefaultWsdlHelpGenerator.aspx  \n",
      "  inflating: Banana.app/Contents/MonoBleedingEdge/etc/mono/4.0/settings.map  \n",
      "   creating: Banana.app/Contents/Mono/\n",
      "   creating: Banana.app/Contents/Mono/etc/\n",
      "   creating: Banana.app/Contents/Mono/etc/mono/\n",
      "   creating: Banana.app/Contents/Mono/etc/mono/1.0/\n",
      "  inflating: Banana.app/Contents/Mono/etc/mono/1.0/machine.config  \n",
      "  inflating: Banana.app/Contents/Mono/etc/mono/1.0/DefaultWsdlHelpGenerator.aspx  \n",
      "  inflating: Banana.app/Contents/Mono/etc/mono/config  \n",
      "   creating: Banana.app/Contents/Mono/etc/mono/2.0/\n",
      "  inflating: Banana.app/Contents/Mono/etc/mono/2.0/web.config  \n",
      "  inflating: Banana.app/Contents/Mono/etc/mono/2.0/machine.config  \n",
      "   creating: Banana.app/Contents/Mono/etc/mono/2.0/Browsers/\n",
      "  inflating: Banana.app/Contents/Mono/etc/mono/2.0/Browsers/Compat.browser  \n",
      "  inflating: Banana.app/Contents/Mono/etc/mono/2.0/DefaultWsdlHelpGenerator.aspx  \n",
      "  inflating: Banana.app/Contents/Mono/etc/mono/2.0/settings.map  \n",
      "  inflating: Banana.app/Contents/Mono/etc/mono/browscap.ini  \n",
      "   creating: Banana.app/Contents/Mono/etc/mono/mconfig/\n",
      "  inflating: Banana.app/Contents/Mono/etc/mono/mconfig/config.xml  \n",
      "   creating: Banana.app/Contents/Frameworks/\n",
      "   creating: Banana.app/Contents/Frameworks/MonoBleedingEdge/\n",
      "   creating: Banana.app/Contents/Frameworks/MonoBleedingEdge/MonoEmbedRuntime/\n",
      "   creating: Banana.app/Contents/Frameworks/MonoBleedingEdge/MonoEmbedRuntime/osx/\n",
      "  inflating: Banana.app/Contents/Frameworks/MonoBleedingEdge/MonoEmbedRuntime/osx/libMonoPosixHelper.dylib  \n",
      "  inflating: Banana.app/Contents/Frameworks/MonoBleedingEdge/MonoEmbedRuntime/osx/libmonobdwgc-2.0.dylib  \n",
      "   creating: Banana.app/Contents/Data/\n",
      "   creating: Banana.app/Contents/Data/Managed/\n",
      "  inflating: Banana.app/Contents/Info.plist  \n"
     ]
    }
   ],
   "source": [
    "#!curl https://s3-us-west-1.amazonaws.com/udacity-drlnd/P1/Banana/Banana_Linux.zip --output Banana.zip # Linux\n",
    "!curl https://s3-us-west-1.amazonaws.com/udacity-drlnd/P1/Banana/Banana.app.zip --output Banana.zip # MacOS\n",
    "#!curl https://s3-us-west-1.amazonaws.com/udacity-drlnd/P1/Banana/Banana_Windows_x86.zip --output Banana.zip # Win32\n",
    "#!curl https://s3-us-west-1.amazonaws.com/udacity-drlnd/P1/Banana/Banana_Windows_x86_64.zip --output Banana.zip # Win64\n",
    "!unzip Banana.zip"
   ]
  },
  {
   "cell_type": "markdown",
   "metadata": {},
   "source": [
    "### 1. Start the Environment\n",
    "\n",
    "We begin by importing some necessary packages.  If the code cell below returns an error, please revisit the project instructions to double-check that you have installed [Unity ML-Agents](https://github.com/Unity-Technologies/ml-agents/blob/master/docs/Installation.md) and [NumPy](http://www.numpy.org/)."
   ]
  },
  {
   "cell_type": "code",
   "execution_count": 9,
   "metadata": {},
   "outputs": [
    {
     "name": "stderr",
     "output_type": "stream",
     "text": [
      "INFO:matplotlib.font_manager:Could not open font file /Library/Fonts/NISC18030.ttf: In FT2Font: Could not set the fontsize\n",
      "INFO:matplotlib.font_manager:Could not open font file /System/Library/Fonts/Apple Color Emoji.ttc: In FT2Font: Could not set the fontsize\n",
      "INFO:matplotlib.font_manager:generated new fontManager\n"
     ]
    }
   ],
   "source": [
    "import gym\n",
    "import random\n",
    "import torch\n",
    "import numpy as np\n",
    "import matplotlib.pyplot as plt\n",
    "from collections import deque\n",
    "from dqn_agent import Agent\n",
    "from unityagents import UnityEnvironment\n",
    "%matplotlib inline"
   ]
  },
  {
   "cell_type": "markdown",
   "metadata": {},
   "source": [
    "Next, we will start the environment!  **_Before running the code cell below_**, change the `file_name` parameter to match the location of the Unity environment that you downloaded.\n",
    "\n",
    "- **Mac**: `\"path/to/Banana.app\"`\n",
    "- **Windows** (x86): `\"path/to/Banana_Windows_x86/Banana.exe\"`\n",
    "- **Windows** (x86_64): `\"path/to/Banana_Windows_x86_64/Banana.exe\"`\n",
    "- **Linux** (x86): `\"path/to/Banana_Linux/Banana.x86\"`\n",
    "- **Linux** (x86_64): `\"path/to/Banana_Linux/Banana.x86_64\"`\n",
    "- **Linux** (x86, headless): `\"path/to/Banana_Linux_NoVis/Banana.x86\"`\n",
    "- **Linux** (x86_64, headless): `\"path/to/Banana_Linux_NoVis/Banana.x86_64\"`\n",
    "\n",
    "For instance, if you are using a Mac, then you downloaded `Banana.app`.  If this file is in the same folder as the notebook, then the line below should appear as follows:\n",
    "```\n",
    "env = UnityEnvironment(file_name=\"Banana.app\")\n",
    "```"
   ]
  },
  {
   "cell_type": "code",
   "execution_count": 4,
   "metadata": {},
   "outputs": [
    {
     "name": "stderr",
     "output_type": "stream",
     "text": [
      "INFO:unityagents:\n",
      "'Academy' started successfully!\n",
      "Unity Academy name: Academy\n",
      "        Number of Brains: 1\n",
      "        Number of External Brains : 1\n",
      "        Lesson number : 0\n",
      "        Reset Parameters :\n",
      "\t\t\n",
      "Unity brain name: BananaBrain\n",
      "        Number of Visual Observations (per agent): 0\n",
      "        Vector Observation space type: continuous\n",
      "        Vector Observation space size (per agent): 37\n",
      "        Number of stacked Vector Observation: 1\n",
      "        Vector Action space type: discrete\n",
      "        Vector Action space size (per agent): 4\n",
      "        Vector Action descriptions: , , , \n"
     ]
    }
   ],
   "source": [
    "env = UnityEnvironment(file_name=\"Banana.app\")"
   ]
  },
  {
   "cell_type": "markdown",
   "metadata": {},
   "source": [
    "Environments contain **_brains_** which are responsible for deciding the actions of their associated agents. Here we check for the first brain available, and set it as the default brain we will be controlling from Python."
   ]
  },
  {
   "cell_type": "code",
   "execution_count": 5,
   "metadata": {},
   "outputs": [],
   "source": [
    "# get the default brain\n",
    "brain_name = env.brain_names[0]\n",
    "brain = env.brains[brain_name]"
   ]
  },
  {
   "cell_type": "markdown",
   "metadata": {},
   "source": [
    "### 2. Examine the State and Action Spaces\n",
    "\n",
    "The simulation contains a single agent that navigates a large environment.  At each time step, it has four actions at its disposal:\n",
    "- `0` - walk forward \n",
    "- `1` - walk backward\n",
    "- `2` - turn left\n",
    "- `3` - turn right\n",
    "\n",
    "The state space has `37` dimensions and contains the agent's velocity, along with ray-based perception of objects around agent's forward direction.  A reward of `+1` is provided for collecting a yellow banana, and a reward of `-1` is provided for collecting a blue banana. \n",
    "\n",
    "Run the code cell below to print some information about the environment."
   ]
  },
  {
   "cell_type": "code",
   "execution_count": 6,
   "metadata": {},
   "outputs": [
    {
     "name": "stdout",
     "output_type": "stream",
     "text": [
      "Number of agents: 1\n",
      "Number of actions: 4\n",
      "States look like: [1.         0.         0.         0.         0.84408134 0.\n",
      " 0.         1.         0.         0.0748472  0.         1.\n",
      " 0.         0.         0.25755    1.         0.         0.\n",
      " 0.         0.74177343 0.         1.         0.         0.\n",
      " 0.25854847 0.         0.         1.         0.         0.09355672\n",
      " 0.         1.         0.         0.         0.31969345 0.\n",
      " 0.        ]\n",
      "States have length: 37\n"
     ]
    }
   ],
   "source": [
    "# reset the environment\n",
    "env_info = env.reset(train_mode=True)[brain_name]\n",
    "\n",
    "# number of agents in the environment\n",
    "print('Number of agents:', len(env_info.agents))\n",
    "\n",
    "# number of actions\n",
    "action_size = brain.vector_action_space_size\n",
    "print('Number of actions:', action_size)\n",
    "\n",
    "# examine the state space \n",
    "state = env_info.vector_observations[0]\n",
    "print('States look like:', state)\n",
    "state_size = len(state)\n",
    "print('States have length:', state_size)"
   ]
  },
  {
   "cell_type": "markdown",
   "metadata": {},
   "source": [
    "### 3. Take Random Actions in the Environment\n",
    "\n",
    "In the next code cell, you will learn how to use the Python API to control the agent and receive feedback from the environment.\n",
    "\n",
    "Once this cell is executed, you will watch the agent's performance, if it selects an action (uniformly) at random with each time step.  A window should pop up that allows you to observe the agent, as it moves through the environment.  \n",
    "\n",
    "Of course, as part of the project, you'll have to change the code so that the agent is able to use its experience to gradually choose better actions when interacting with the environment!"
   ]
  },
  {
   "cell_type": "code",
   "execution_count": 7,
   "metadata": {},
   "outputs": [
    {
     "name": "stdout",
     "output_type": "stream",
     "text": [
      "Score: 0.0\n"
     ]
    }
   ],
   "source": [
    "env_info = env.reset(train_mode=False)[brain_name] # reset the environment\n",
    "state = env_info.vector_observations[0]            # get the current state\n",
    "score = 0                                          # initialize the score\n",
    "while True:\n",
    "    action = np.random.randint(action_size)        # select an action\n",
    "    env_info = env.step(action)[brain_name]        # send the action to the environment\n",
    "    next_state = env_info.vector_observations[0]   # get the next state\n",
    "    reward = env_info.rewards[0]                   # get the reward\n",
    "    done = env_info.local_done[0]                  # see if episode has finished\n",
    "    score += reward                                # update the score\n",
    "    state = next_state                             # roll over the state to next time step\n",
    "    if done:                                       # exit loop if episode finished\n",
    "        break\n",
    "    \n",
    "print(\"Score: {}\".format(score))"
   ]
  },
  {
   "cell_type": "markdown",
   "metadata": {},
   "source": [
    "### 4. It's Your Turn!\n",
    "\n",
    "Now it's your turn to train your own agent to solve the environment!  When training the environment, set `train_mode=True`, so that the line for resetting the environment looks like the following:"
   ]
  },
  {
   "cell_type": "code",
   "execution_count": null,
   "metadata": {},
   "outputs": [],
   "source": [
    "env_info = env.reset(train_mode=True)[brain_name]"
   ]
  },
  {
   "cell_type": "markdown",
   "metadata": {},
   "source": [
    "Let's create an agent with an already defined size of the state and action space. The seed is specified to improve reproducibility.\n",
    "\n",
    "The agent is a double deep Q network taking advantage of replay buffer. The size of the buffer is 10^5 to allow for reach exploration of previous experiences. The batch size if set to 64 which is large to learn from previous experiences but not to overgeneralize across all of them.\n",
    "\n",
    "At each step, the agent adds a new experience to the memory and every 4 steps it samples a batch of recent experiences to learn. It might be advantageous to increase this parameter, especially for the early stages of learning, since the agent does not have enough experience yet to efficient sample.\n",
    "\n",
    "The default provided for learning rate, soft update, and discount factor(5 * 10^-4, 10^-3, and 0.99) respectively proved to be reasonable for this task. Although decreasing discount factor might be beneficial, since the distribution of bananas across the room seems to be normal, and agents should strive for acquiring nearby bananas even more than going for groups of bananas."
   ]
  },
  {
   "cell_type": "code",
   "execution_count": 10,
   "metadata": {},
   "outputs": [],
   "source": [
    "agent = Agent(state_size=state_size, action_size=action_size, seed=42)"
   ]
  },
  {
   "cell_type": "markdown",
   "metadata": {},
   "source": [
    "Now create DQN training function add execute it\n",
    "\n",
    "Note about hyperparameters - the default values for epsilon seem to do the job and weren't changed during the training, although decreasing it even faster may lead to the faster convergence to the optimal policy."
   ]
  },
  {
   "cell_type": "code",
   "execution_count": 12,
   "metadata": {},
   "outputs": [
    {
     "name": "stdout",
     "output_type": "stream",
     "text": [
      "Episode 100\tAverage Score: 0.80\n",
      "Episode 200\tAverage Score: 4.23\n",
      "Episode 300\tAverage Score: 7.06\n",
      "Episode 400\tAverage Score: 10.02\n",
      "Episode 500\tAverage Score: 12.62\n",
      "Episode 600\tAverage Score: 14.06\n",
      "Episode 700\tAverage Score: 14.80\n",
      "Episode 800\tAverage Score: 15.63\n",
      "Episode 900\tAverage Score: 15.75\n",
      "Episode 1000\tAverage Score: 15.26\n",
      "Episode 1100\tAverage Score: 15.60\n",
      "Episode 1200\tAverage Score: 16.58\n",
      "Episode 1300\tAverage Score: 16.68\n",
      "Episode 1400\tAverage Score: 16.56\n",
      "Episode 1500\tAverage Score: 15.90\n",
      "Episode 1600\tAverage Score: 16.13\n",
      "Episode 1700\tAverage Score: 16.37\n",
      "Episode 1800\tAverage Score: 15.71\n",
      "Episode 1900\tAverage Score: 15.68\n",
      "Episode 2000\tAverage Score: 15.88\n"
     ]
    }
   ],
   "source": [
    "def dqn(n_episodes=2000, max_t=1000, eps_start=1.0, eps_end=0.01, eps_decay=0.995):\n",
    "    \"\"\"Deep Q-Learning.\n",
    "    \n",
    "    Params\n",
    "    ======\n",
    "        n_episodes (int): maximum number of training episodes\n",
    "        max_t (int): maximum number of timesteps per episode\n",
    "        eps_start (float): starting value of epsilon, for epsilon-greedy action selection\n",
    "        eps_end (float): minimum value of epsilon\n",
    "        eps_decay (float): multiplicative factor (per episode) for decreasing epsilon\n",
    "    \"\"\"\n",
    "    scores = []                        # list containing scores from each episode\n",
    "    scores_window = deque(maxlen=100)  # last 100 scores\n",
    "    eps = eps_start                    # initialize epsilon\n",
    "    for i_episode in range(1, n_episodes+1):\n",
    "        env_info = env.reset(train_mode=True)[brain_name] # reset environment at the start of the each episode\n",
    "        state = env_info.vector_observations[0]\n",
    "        score = 0\n",
    "        for t in range(max_t):\n",
    "            action = agent.act(state, eps) # choose an action epsilon-greedely\n",
    "            env_info = env.step(action)[brain_name] # get environment information\n",
    "            next_state = env_info.vector_observations[0] # next state\n",
    "            reward = env_info.rewards[0] # reward received by taken specified action \n",
    "            done = env_info.local_done[0] # whether the episode is finished\n",
    "            agent.step(state, action, reward, next_state, done) # add current experience to replay memory\n",
    "            state = next_state # update current state\n",
    "            score += reward # update current score\n",
    "            if done:\n",
    "                break \n",
    "        scores_window.append(score)       # save most recent score\n",
    "        scores.append(score)              # save most recent score\n",
    "        eps = max(eps_end, eps_decay*eps) # decrease epsilon\n",
    "        print('\\rEpisode {}\\tAverage Score: {:.2f}'.format(i_episode, np.mean(scores_window)), end=\"\")\n",
    "        if i_episode % 100 == 0:\n",
    "            print('\\rEpisode {}\\tAverage Score: {:.2f}'.format(i_episode, np.mean(scores_window)))\n",
    "        if np.mean(scores_window)>=200.0:\n",
    "            print('\\nEnvironment solved in {:d} episodes!\\tAverage Score: {:.2f}'.format(i_episode-100, np.mean(scores_window)))\n",
    "            torch.save(agent.qnetwork_local.state_dict(), 'checkpoint.pth')\n",
    "            break\n",
    "    return scores\n",
    "\n",
    "scores = dqn()"
   ]
  },
  {
   "cell_type": "markdown",
   "metadata": {},
   "source": [
    "The required average score of 13 was achieved in 600 episodes. 16.5 seems to be the soft cap of the score that the agent can achieve. Oscillation around this point can be explained by the stochastic nature of the environment and/or agents overfitting to specific starting conditions/bananas location.\n",
    "\n",
    "The plot of average scores can be seen below:"
   ]
  },
  {
   "cell_type": "code",
   "execution_count": 13,
   "metadata": {},
   "outputs": [
    {
     "data": {
      "image/png": "[encoded data removed]",
      "text/plain": [
       "<Figure size 432x288 with 1 Axes>"
      ]
     },
     "metadata": {
      "needs_background": "light"
     },
     "output_type": "display_data"
    }
   ],
   "source": [
    "fig = plt.figure()\n",
    "ax = fig.add_subplot(111)\n",
    "plt.plot(np.arange(len(scores)), scores)\n",
    "plt.ylabel('Score')\n",
    "plt.xlabel('Episode #')\n",
    "plt.show()"
   ]
  },
  {
   "cell_type": "markdown",
   "metadata": {},
   "source": [
    "The agent was trained using a vanilla DQN architecture with fixes Q targets and experience replay.\n",
    "\n",
    "To make the algorithm converge faster and/or achieve a higher maximum score additional hyperparameter search might be performed. The current training session for 2000 episodes suggests that the agent does not seems to improve significantly after achieving a 15+ score(around 800 episodes marker). Training from the raw pixels might be another interesting challenge, but for that model should be trained significantly longer."
   ]
  }
 ],
 "metadata": {
  "kernelspec": {
   "display_name": "drlnd",
   "language": "python",
   "name": "drlnd"
  },
  "language_info": {
   "codemirror_mode": {
    "name": "ipython",
    "version": 3
   },
   "file_extension": ".py",
   "mimetype": "text/x-python",
   "name": "python",
   "nbconvert_exporter": "python",
   "pygments_lexer": "ipython3",
   "version": "3.6.9"
  }
 },
 "nbformat": 4,
 "nbformat_minor": 2
}
